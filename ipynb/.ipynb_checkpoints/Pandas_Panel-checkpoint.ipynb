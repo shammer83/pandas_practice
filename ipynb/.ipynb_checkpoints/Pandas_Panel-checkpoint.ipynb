{
 "cells": [
  {
   "cell_type": "code",
   "execution_count": null,
   "metadata": {},
   "outputs": [],
   "source": []
  },
  {
   "cell_type": "markdown",
   "metadata": {},
   "source": [
    "## Panel\n",
    "- analog to a three dimensional data frame\n",
    "- alternative to hierarchical indexing"
   ]
  },
  {
   "cell_type": "code",
   "execution_count": 7,
   "metadata": {},
   "outputs": [],
   "source": [
    "import pandas as pd\n",
    "from pandas import Panel\n",
    "import pandas_datareader.data as web\n",
    "import datetime\n",
    "import requests_cache"
   ]
  },
  {
   "cell_type": "code",
   "execution_count": 14,
   "metadata": {},
   "outputs": [],
   "source": [
    "expire_after = datetime.timedelta(days=3)\n",
    "\n",
    "session = requests_cache.CachedSession(cache_name='cache', backend='sqlite', expire_after=expire_after)\n",
    "\n",
    "start = datetime.datetime(2010, 1, 1)\n",
    "\n",
    "end = datetime.datetime(2013, 1, 27)\n",
    "\n",
    "pdata = pd.Panel(dict((stk, web.DataReader(stk, 'yahoo', start, end, session = session))\n",
    "                     for stk in ['AAPL', 'GOOG', 'MSFT']))"
   ]
  },
  {
   "cell_type": "code",
   "execution_count": 15,
   "metadata": {},
   "outputs": [
    {
     "data": {
      "text/plain": [
       "<class 'pandas.core.panel.Panel'>\n",
       "Dimensions: 3 (items) x 771 (major_axis) x 6 (minor_axis)\n",
       "Items axis: AAPL to MSFT\n",
       "Major_axis axis: 2010-01-04 00:00:00 to 2013-01-25 00:00:00\n",
       "Minor_axis axis: Open to Volume"
      ]
     },
     "execution_count": 15,
     "metadata": {},
     "output_type": "execute_result"
    }
   ],
   "source": [
    "pdata"
   ]
  },
  {
   "cell_type": "code",
   "execution_count": 17,
   "metadata": {},
   "outputs": [],
   "source": [
    "pdata = pdata.swapaxes('items', 'minor')"
   ]
  },
  {
   "cell_type": "code",
   "execution_count": 21,
   "metadata": {},
   "outputs": [
    {
     "data": {
      "text/html": [
       "<div>\n",
       "<table border=\"1\" class=\"dataframe\">\n",
       "  <thead>\n",
       "    <tr style=\"text-align: right;\">\n",
       "      <th></th>\n",
       "      <th>AAPL</th>\n",
       "      <th>GOOG</th>\n",
       "      <th>MSFT</th>\n",
       "    </tr>\n",
       "    <tr>\n",
       "      <th>Date</th>\n",
       "      <th></th>\n",
       "      <th></th>\n",
       "      <th></th>\n",
       "    </tr>\n",
       "  </thead>\n",
       "  <tbody>\n",
       "    <tr>\n",
       "      <th>2010-01-04</th>\n",
       "      <td>27.406532</td>\n",
       "      <td>311.349976</td>\n",
       "      <td>25.148876</td>\n",
       "    </tr>\n",
       "    <tr>\n",
       "      <th>2010-01-05</th>\n",
       "      <td>27.453915</td>\n",
       "      <td>309.978882</td>\n",
       "      <td>25.157001</td>\n",
       "    </tr>\n",
       "    <tr>\n",
       "      <th>2010-01-06</th>\n",
       "      <td>27.017223</td>\n",
       "      <td>302.164703</td>\n",
       "      <td>25.002611</td>\n",
       "    </tr>\n",
       "    <tr>\n",
       "      <th>2010-01-07</th>\n",
       "      <td>26.967278</td>\n",
       "      <td>295.130463</td>\n",
       "      <td>24.742592</td>\n",
       "    </tr>\n",
       "    <tr>\n",
       "      <th>2010-01-08</th>\n",
       "      <td>27.146566</td>\n",
       "      <td>299.064880</td>\n",
       "      <td>24.913233</td>\n",
       "    </tr>\n",
       "  </tbody>\n",
       "</table>\n",
       "</div>"
      ],
      "text/plain": [
       "                 AAPL        GOOG       MSFT\n",
       "Date                                        \n",
       "2010-01-04  27.406532  311.349976  25.148876\n",
       "2010-01-05  27.453915  309.978882  25.157001\n",
       "2010-01-06  27.017223  302.164703  25.002611\n",
       "2010-01-07  26.967278  295.130463  24.742592\n",
       "2010-01-08  27.146566  299.064880  24.913233"
      ]
     },
     "execution_count": 21,
     "metadata": {},
     "output_type": "execute_result"
    }
   ],
   "source": [
    "pdata['Adj Close'][0:5]"
   ]
  },
  {
   "cell_type": "code",
   "execution_count": 20,
   "metadata": {},
   "outputs": [
    {
     "data": {
      "text/html": [
       "<div>\n",
       "<table border=\"1\" class=\"dataframe\">\n",
       "  <thead>\n",
       "    <tr style=\"text-align: right;\">\n",
       "      <th></th>\n",
       "      <th>Open</th>\n",
       "      <th>High</th>\n",
       "      <th>Low</th>\n",
       "      <th>Close</th>\n",
       "      <th>Adj Close</th>\n",
       "      <th>Volume</th>\n",
       "    </tr>\n",
       "  </thead>\n",
       "  <tbody>\n",
       "    <tr>\n",
       "      <th>AAPL</th>\n",
       "      <td>81.308571</td>\n",
       "      <td>81.807144</td>\n",
       "      <td>80.074287</td>\n",
       "      <td>80.141426</td>\n",
       "      <td>71.841476</td>\n",
       "      <td>130246900.0</td>\n",
       "    </tr>\n",
       "    <tr>\n",
       "      <th>GOOG</th>\n",
       "      <td>284.047546</td>\n",
       "      <td>284.474762</td>\n",
       "      <td>282.338654</td>\n",
       "      <td>283.645172</td>\n",
       "      <td>283.645172</td>\n",
       "      <td>6155600.0</td>\n",
       "    </tr>\n",
       "    <tr>\n",
       "      <th>MSFT</th>\n",
       "      <td>28.760000</td>\n",
       "      <td>28.959999</td>\n",
       "      <td>28.440001</td>\n",
       "      <td>28.450001</td>\n",
       "      <td>24.545383</td>\n",
       "      <td>56634300.0</td>\n",
       "    </tr>\n",
       "  </tbody>\n",
       "</table>\n",
       "</div>"
      ],
      "text/plain": [
       "            Open        High         Low       Close   Adj Close       Volume\n",
       "AAPL   81.308571   81.807144   80.074287   80.141426   71.841476  130246900.0\n",
       "GOOG  284.047546  284.474762  282.338654  283.645172  283.645172    6155600.0\n",
       "MSFT   28.760000   28.959999   28.440001   28.450001   24.545383   56634300.0"
      ]
     },
     "execution_count": 20,
     "metadata": {},
     "output_type": "execute_result"
    }
   ],
   "source": [
    "pdata.ix[:, '6/1/2012', :]"
   ]
  },
  {
   "cell_type": "code",
   "execution_count": 22,
   "metadata": {},
   "outputs": [],
   "source": [
    "stacked = pdata.ix[:, '5/30/2012':, :].to_frame()"
   ]
  },
  {
   "cell_type": "code",
   "execution_count": 24,
   "metadata": {},
   "outputs": [
    {
     "data": {
      "text/html": [
       "<div>\n",
       "<table border=\"1\" class=\"dataframe\">\n",
       "  <thead>\n",
       "    <tr style=\"text-align: right;\">\n",
       "      <th></th>\n",
       "      <th></th>\n",
       "      <th>Open</th>\n",
       "      <th>High</th>\n",
       "      <th>Low</th>\n",
       "      <th>Close</th>\n",
       "      <th>Adj Close</th>\n",
       "      <th>Volume</th>\n",
       "    </tr>\n",
       "    <tr>\n",
       "      <th>Date</th>\n",
       "      <th>minor</th>\n",
       "      <th></th>\n",
       "      <th></th>\n",
       "      <th></th>\n",
       "      <th></th>\n",
       "      <th></th>\n",
       "      <th></th>\n",
       "    </tr>\n",
       "  </thead>\n",
       "  <tbody>\n",
       "    <tr>\n",
       "      <th rowspan=\"3\" valign=\"top\">2012-05-30</th>\n",
       "      <th>AAPL</th>\n",
       "      <td>81.314285</td>\n",
       "      <td>82.855713</td>\n",
       "      <td>80.937141</td>\n",
       "      <td>82.738571</td>\n",
       "      <td>74.169617</td>\n",
       "      <td>132357400.0</td>\n",
       "    </tr>\n",
       "    <tr>\n",
       "      <th>GOOG</th>\n",
       "      <td>292.179657</td>\n",
       "      <td>294.037567</td>\n",
       "      <td>289.879608</td>\n",
       "      <td>292.214417</td>\n",
       "      <td>292.214417</td>\n",
       "      <td>3838100.0</td>\n",
       "    </tr>\n",
       "    <tr>\n",
       "      <th>MSFT</th>\n",
       "      <td>29.350000</td>\n",
       "      <td>29.480000</td>\n",
       "      <td>29.120001</td>\n",
       "      <td>29.340000</td>\n",
       "      <td>25.313240</td>\n",
       "      <td>41585500.0</td>\n",
       "    </tr>\n",
       "    <tr>\n",
       "      <th rowspan=\"3\" valign=\"top\">2012-05-31</th>\n",
       "      <th>AAPL</th>\n",
       "      <td>82.962860</td>\n",
       "      <td>83.071426</td>\n",
       "      <td>81.637146</td>\n",
       "      <td>82.532860</td>\n",
       "      <td>73.985207</td>\n",
       "      <td>122918600.0</td>\n",
       "    </tr>\n",
       "    <tr>\n",
       "      <th>GOOG</th>\n",
       "      <td>292.457855</td>\n",
       "      <td>293.093719</td>\n",
       "      <td>287.629242</td>\n",
       "      <td>288.553253</td>\n",
       "      <td>288.553253</td>\n",
       "      <td>5975200.0</td>\n",
       "    </tr>\n",
       "    <tr>\n",
       "      <th>MSFT</th>\n",
       "      <td>29.299999</td>\n",
       "      <td>29.420000</td>\n",
       "      <td>28.940001</td>\n",
       "      <td>29.190001</td>\n",
       "      <td>25.183826</td>\n",
       "      <td>39134000.0</td>\n",
       "    </tr>\n",
       "    <tr>\n",
       "      <th rowspan=\"3\" valign=\"top\">2012-06-01</th>\n",
       "      <th>AAPL</th>\n",
       "      <td>81.308571</td>\n",
       "      <td>81.807144</td>\n",
       "      <td>80.074287</td>\n",
       "      <td>80.141426</td>\n",
       "      <td>71.841476</td>\n",
       "      <td>130246900.0</td>\n",
       "    </tr>\n",
       "    <tr>\n",
       "      <th>GOOG</th>\n",
       "      <td>284.047546</td>\n",
       "      <td>284.474762</td>\n",
       "      <td>282.338654</td>\n",
       "      <td>283.645172</td>\n",
       "      <td>283.645172</td>\n",
       "      <td>6155600.0</td>\n",
       "    </tr>\n",
       "    <tr>\n",
       "      <th>MSFT</th>\n",
       "      <td>28.760000</td>\n",
       "      <td>28.959999</td>\n",
       "      <td>28.440001</td>\n",
       "      <td>28.450001</td>\n",
       "      <td>24.545383</td>\n",
       "      <td>56634300.0</td>\n",
       "    </tr>\n",
       "    <tr>\n",
       "      <th>2012-06-04</th>\n",
       "      <th>AAPL</th>\n",
       "      <td>80.214287</td>\n",
       "      <td>81.071426</td>\n",
       "      <td>78.357140</td>\n",
       "      <td>80.612854</td>\n",
       "      <td>72.264061</td>\n",
       "      <td>139248900.0</td>\n",
       "    </tr>\n",
       "  </tbody>\n",
       "</table>\n",
       "</div>"
      ],
      "text/plain": [
       "                        Open        High         Low       Close   Adj Close  \\\n",
       "Date       minor                                                               \n",
       "2012-05-30 AAPL    81.314285   82.855713   80.937141   82.738571   74.169617   \n",
       "           GOOG   292.179657  294.037567  289.879608  292.214417  292.214417   \n",
       "           MSFT    29.350000   29.480000   29.120001   29.340000   25.313240   \n",
       "2012-05-31 AAPL    82.962860   83.071426   81.637146   82.532860   73.985207   \n",
       "           GOOG   292.457855  293.093719  287.629242  288.553253  288.553253   \n",
       "           MSFT    29.299999   29.420000   28.940001   29.190001   25.183826   \n",
       "2012-06-01 AAPL    81.308571   81.807144   80.074287   80.141426   71.841476   \n",
       "           GOOG   284.047546  284.474762  282.338654  283.645172  283.645172   \n",
       "           MSFT    28.760000   28.959999   28.440001   28.450001   24.545383   \n",
       "2012-06-04 AAPL    80.214287   81.071426   78.357140   80.612854   72.264061   \n",
       "\n",
       "                       Volume  \n",
       "Date       minor               \n",
       "2012-05-30 AAPL   132357400.0  \n",
       "           GOOG     3838100.0  \n",
       "           MSFT    41585500.0  \n",
       "2012-05-31 AAPL   122918600.0  \n",
       "           GOOG     5975200.0  \n",
       "           MSFT    39134000.0  \n",
       "2012-06-01 AAPL   130246900.0  \n",
       "           GOOG     6155600.0  \n",
       "           MSFT    56634300.0  \n",
       "2012-06-04 AAPL   139248900.0  "
      ]
     },
     "execution_count": 24,
     "metadata": {},
     "output_type": "execute_result"
    }
   ],
   "source": [
    "stacked[0:10]"
   ]
  },
  {
   "cell_type": "code",
   "execution_count": 25,
   "metadata": {},
   "outputs": [
    {
     "data": {
      "text/plain": [
       "<class 'pandas.core.panel.Panel'>\n",
       "Dimensions: 6 (items) x 165 (major_axis) x 3 (minor_axis)\n",
       "Items axis: Open to Volume\n",
       "Major_axis axis: 2012-05-30 00:00:00 to 2013-01-25 00:00:00\n",
       "Minor_axis axis: AAPL to MSFT"
      ]
     },
     "execution_count": 25,
     "metadata": {},
     "output_type": "execute_result"
    }
   ],
   "source": [
    "stacked.to_panel()"
   ]
  },
  {
   "cell_type": "code",
   "execution_count": null,
   "metadata": {},
   "outputs": [],
   "source": []
  }
 ],
 "metadata": {
  "kernelspec": {
   "display_name": "Python 3",
   "language": "python",
   "name": "python3"
  },
  "language_info": {
   "codemirror_mode": {
    "name": "ipython",
    "version": 3
   },
   "file_extension": ".py",
   "mimetype": "text/x-python",
   "name": "python",
   "nbconvert_exporter": "python",
   "pygments_lexer": "ipython3",
   "version": "3.6.3"
  }
 },
 "nbformat": 4,
 "nbformat_minor": 2
}
